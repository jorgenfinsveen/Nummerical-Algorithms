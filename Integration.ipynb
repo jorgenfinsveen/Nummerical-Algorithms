{
 "cells": [
  {
   "attachments": {},
   "cell_type": "markdown",
   "metadata": {},
   "source": [
    "# Integration\n",
    "---------"
   ]
  },
  {
   "attachments": {},
   "cell_type": "markdown",
   "metadata": {},
   "source": [
    "### Rectangular Method"
   ]
  },
  {
   "cell_type": "code",
   "execution_count": null,
   "metadata": {},
   "outputs": [],
   "source": [
    "def rectangular(f, a, b, N = 1e4):\n",
    "    total = 0.0\n",
    "    height = (b - a) / N\n",
    "    for x in range(N):\n",
    "        total += f(a + x * height)\n",
    "    return total * height"
   ]
  },
  {
   "attachments": {},
   "cell_type": "markdown",
   "metadata": {},
   "source": [
    "### Trapezoid Method"
   ]
  },
  {
   "cell_type": "code",
   "execution_count": null,
   "metadata": {},
   "outputs": [],
   "source": [
    "def trapezoid(f, a, b, N = 1e4):\n",
    "    total = (f(a) + f(b)) / 2\n",
    "    height = (b - a) / N\n",
    "    for x in range(1, N):\n",
    "        total += f(a + x * height)\n",
    "    return total * height"
   ]
  },
  {
   "attachments": {},
   "cell_type": "markdown",
   "metadata": {},
   "source": [
    "### Simpsons Method"
   ]
  },
  {
   "cell_type": "code",
   "execution_count": null,
   "metadata": {},
   "outputs": [],
   "source": [
    "def simpsons(f, a, b, N):\n",
    "    total = f(a) + f(b)\n",
    "    height = (b - a) / N\n",
    "    for x1 in range(1, N, 2):\n",
    "        total += 4 * f(a + x1 * height)\n",
    "    for x2 in range(2, N-1, 2):\n",
    "        total += 2 * f(a + x2 * height)\n",
    "    return total * height / 3"
   ]
  }
 ],
 "metadata": {
  "kernelspec": {
   "display_name": "Python 3",
   "language": "python",
   "name": "python3"
  },
  "language_info": {
   "name": "python",
   "version": "3.10.4"
  },
  "orig_nbformat": 4,
  "vscode": {
   "interpreter": {
    "hash": "aee8b7b246df8f9039afb4144a1f6fd8d2ca17a180786b69acc140d282b71a49"
   }
  }
 },
 "nbformat": 4,
 "nbformat_minor": 2
}
