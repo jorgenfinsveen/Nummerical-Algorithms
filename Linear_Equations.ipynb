{
 "cells": [
  {
   "attachments": {},
   "cell_type": "markdown",
   "metadata": {},
   "source": [
    "# Linear Equations\n",
    "--------"
   ]
  },
  {
   "attachments": {},
   "cell_type": "markdown",
   "metadata": {},
   "source": [
    "### Halving Method"
   ]
  },
  {
   "cell_type": "code",
   "execution_count": null,
   "metadata": {},
   "outputs": [],
   "source": [
    "def halving(f, a, b, bound = 1e-8, N = 1e4):\n",
    "    solution = (a + b) / 2\n",
    "    iteration = 0\n",
    "    while iteration < N and abs(f(solution)) > bound:\n",
    "        if f(solution) == 0:\n",
    "            a = b = solution\n",
    "        elif f(a) * f(solution) < 0:\n",
    "            b = solution\n",
    "        else:\n",
    "            a = solution\n",
    "        iteration += 1\n",
    "        solution = (a + b) / 2\n",
    "    return solution"
   ]
  },
  {
   "attachments": {},
   "cell_type": "markdown",
   "metadata": {},
   "source": [
    "### Newtons Method"
   ]
  },
  {
   "cell_type": "code",
   "execution_count": null,
   "metadata": {},
   "outputs": [],
   "source": [
    "def differentiate(f, x, dx = 1e-8):\n",
    "    return (f(x + dx) - f(x)) / dx\n",
    "\n",
    "def newton(f, a, bound = 1e-8, N = 1e4):\n",
    "    solution = a\n",
    "    itereration = 0\n",
    "    while itereration < N and abs(f(solution)) > bound:\n",
    "        solution = a - f(a) / differentiate(f, a)\n",
    "        iteration += 1\n",
    "        a = solution\n",
    "    return solution"
   ]
  }
 ],
 "metadata": {
  "kernelspec": {
   "display_name": "Python 3",
   "language": "python",
   "name": "python3"
  },
  "language_info": {
   "codemirror_mode": {
    "name": "ipython",
    "version": 3
   },
   "file_extension": ".py",
   "mimetype": "text/x-python",
   "name": "python",
   "nbconvert_exporter": "python",
   "pygments_lexer": "ipython3",
   "version": "3.10.4"
  },
  "orig_nbformat": 4,
  "vscode": {
   "interpreter": {
    "hash": "aee8b7b246df8f9039afb4144a1f6fd8d2ca17a180786b69acc140d282b71a49"
   }
  }
 },
 "nbformat": 4,
 "nbformat_minor": 2
}
